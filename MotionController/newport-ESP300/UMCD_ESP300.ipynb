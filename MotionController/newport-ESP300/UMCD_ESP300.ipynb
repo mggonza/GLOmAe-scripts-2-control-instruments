{
 "cells": [
  {
   "cell_type": "markdown",
   "id": "4ae70b17-a4e5-4085-8a32-d64e05353f09",
   "metadata": {},
   "source": [
    "### Example of how to control Universal Motion Controller Driver model ESP300 using PyVISA "
   ]
  },
  {
   "cell_type": "code",
   "execution_count": 1,
   "id": "44376c2c-0176-44ad-bcb3-1a5f2788746d",
   "metadata": {},
   "outputs": [],
   "source": [
    "from rotmcESP import *"
   ]
  },
  {
   "cell_type": "code",
   "execution_count": 2,
   "id": "6a63db33-1f24-4453-bed2-e29c580cfebc",
   "metadata": {},
   "outputs": [],
   "source": [
    "ESP300 = RotmcESP('ASRL/dev/ttyUSB0::INSTR')"
   ]
  },
  {
   "cell_type": "code",
   "execution_count": 3,
   "id": "3c9a928c-1ca0-408a-ba65-1adbb4a71e31",
   "metadata": {},
   "outputs": [],
   "source": [
    "ESP300.config(axis = 2,\n",
    "              vel = 20,\n",
    "              direction = '+',\n",
    "              setOrigin = True)"
   ]
  },
  {
   "cell_type": "code",
   "execution_count": 4,
   "id": "86c44577-0bb8-4f0d-9515-aefbae752402",
   "metadata": {},
   "outputs": [],
   "source": [
    "currPostion = ESP300(reference = 'REL', rotAngle = 180)"
   ]
  },
  {
   "cell_type": "code",
   "execution_count": 5,
   "id": "8fcc476f-340c-4cfb-b9e1-84c1397d6883",
   "metadata": {},
   "outputs": [
    {
     "name": "stdout",
     "output_type": "stream",
     "text": [
      "179.97\n"
     ]
    }
   ],
   "source": [
    "print(currPostion)"
   ]
  },
  {
   "cell_type": "code",
   "execution_count": null,
   "id": "a24bf440-7e8d-4a60-b44b-8f7c41b308bc",
   "metadata": {},
   "outputs": [],
   "source": []
  }
 ],
 "metadata": {
  "kernelspec": {
   "display_name": "Python 3 (ipykernel)",
   "language": "python",
   "name": "python3"
  },
  "language_info": {
   "codemirror_mode": {
    "name": "ipython",
    "version": 3
   },
   "file_extension": ".py",
   "mimetype": "text/x-python",
   "name": "python",
   "nbconvert_exporter": "python",
   "pygments_lexer": "ipython3",
   "version": "3.11.2"
  }
 },
 "nbformat": 4,
 "nbformat_minor": 5
}
